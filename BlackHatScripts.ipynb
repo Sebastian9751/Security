{
  "cells": [
    {
      "attachments": {},
      "cell_type": "markdown",
      "metadata": {
        "id": "3wYQf7w-T6EA"
      },
      "source": [
        "*TCP-Client*"
      ]
    },
    {
      "cell_type": "code",
      "execution_count": 9,
      "metadata": {
        "colab": {
          "base_uri": "https://localhost:8080/"
        },
        "id": "YHr23UQtT_fa",
        "outputId": "e15ae0a7-596f-47c3-9042-14cd4be05bd6"
      },
      "outputs": [
        {
          "name": "stdout",
          "output_type": "stream",
          "text": [
            "HTTP/1.1 301 Moved Permanently\n",
            "Location: http://www.google.com/\n",
            "Content-Type: text/html; charset=UTF-8\n",
            "Content-Security-Policy-Report-Only: object-src 'none';base-uri 'self';script-src 'nonce-hH8xol76XlkhNNOiHscHIg' 'strict-dynamic' 'report-sample' 'unsafe-eval' 'unsafe-inline' https: http:;report-uri https://csp.withgoogle.com/csp/gws/other-hp\n",
            "Date: Sat, 03 Jun 2023 17:21:33 GMT\n",
            "Expires: Mon, 03 Jul 2023 17:21:33 GMT\n",
            "Cache-Control: public, max-age=2592000\n",
            "Server: gws\n",
            "Content-Length: 219\n",
            "X-XSS-Protection: 0\n",
            "X-Frame-Options: SAMEORIGIN\n",
            "\n",
            "<HTML><HEAD><meta http-equiv=\"content-type\" content=\"text/html;charset=utf-8\">\n",
            "<TITLE>301 Moved</TITLE></HEAD><BODY>\n",
            "<H1>301 Moved</H1>\n",
            "The document has moved\n",
            "<A HREF=\"http://www.google.com/\">here</A>.\n",
            "</BODY></HTML>\n",
            "\n"
          ]
        }
      ],
      "source": [
        "import socket\n",
        "\n",
        "target_host = \"www.google.com\"\n",
        "target_port = 80\n",
        "\n",
        "# create a socket object\n",
        "client = socket.socket(socket.AF_INET, socket.SOCK_STREAM)\n",
        "\n",
        "# connect the client\n",
        "client.connect((target_host, target_port))\n",
        "\n",
        "# send some data\n",
        "request = b\"GET / HTTP/1.1\\r\\nHost: google.com\\r\\n\\r\\n\"\n",
        "client.send(request)\n",
        "\n",
        "# receive some data\n",
        "response = client.recv(4096)\n",
        "print(response.decode())"
      ]
    },
    {
      "attachments": {},
      "cell_type": "markdown",
      "metadata": {
        "id": "1tE2rUY5UdoE"
      },
      "source": [
        "*UDP-Client*"
      ]
    },
    {
      "cell_type": "code",
      "execution_count": 6,
      "metadata": {
        "colab": {
          "base_uri": "https://localhost:8080/",
          "height": 217
        },
        "id": "BwRTTIA0VA5H",
        "outputId": "d4069c4f-3079-4f50-bb26-0c088916bef4"
      },
      "outputs": [
        {
          "name": "stdout",
          "output_type": "stream",
          "text": [
            "Port 9000 is open and ready to receive data.\n",
            "Received data: b'\\xff\\x00\\x00\\x00\\x00\\x00\\x00\\x00\\x01\\x7f'\n"
          ]
        }
      ],
      "source": [
        "import socket\n",
        "\n",
        "target_host = \"127.0.0.1\"\n",
        "target_port = 9000\n",
        "\n",
        "# create a socket object\n",
        "client = socket.socket(socket.AF_INET, socket.SOCK_STREAM)\n",
        "\n",
        "try:\n",
        "    # try to connect to the target host and port\n",
        "    client.connect((target_host, target_port))\n",
        "    print(f\"Port {target_port} is open and ready to receive data.\")\n",
        "except ConnectionRefusedError:\n",
        "    print(f\"Port {target_port} is not open or not ready to receive data.\")\n",
        "finally:\n",
        "    # send some data\n",
        "    client.sendto(b\"AAABBBCCC\", (target_host, target_port))\n",
        "\n",
        "    # receive some data\n",
        "    data, addr = client.recvfrom(4096)\n",
        "    \n",
        "   \n",
        "    print(\"Received data:\", data)\n",
        "    \n",
        "    client.close()\n"
      ]
    },
    {
      "attachments": {},
      "cell_type": "markdown",
      "metadata": {},
      "source": [
        "*TCP-Server*"
      ]
    },
    {
      "cell_type": "code",
      "execution_count": 4,
      "metadata": {},
      "outputs": [
        {
          "name": "stdout",
          "output_type": "stream",
          "text": [
            "[*] Listening on 0.0.0.0:9012\n"
          ]
        }
      ],
      "source": [
        "import socket\n",
        "import threading\n",
        "\n",
        "bind_ip = \"0.0.0.0\"\n",
        "bind_port = 9012\n",
        "\n",
        "server = socket.socket(socket.AF_INET, socket.SOCK_STREAM)\n",
        "server.bind((bind_ip, bind_port))\n",
        "server.listen(5)\n",
        "print(f\"[*] Listening on {bind_ip}:{bind_port}\")\n",
        "\n",
        "# Esta es nuestra función para manejar al cliente\n",
        "def handle_client(client_socket):\n",
        "    # Imprimimos lo que el cliente envía\n",
        "    request = client_socket.recv(1024)\n",
        "    print(f\"[*] Received: {request.decode()}\")\n",
        "    # Enviamos de vuelta un paquete\n",
        "    client_socket.send(b\"ACK!\")\n",
        "    client_socket.close()\n",
        "\n",
        "while True:\n",
        "    client, addr = server.accept()\n",
        "    print(f\"[*] Accepted connection from: {addr[0]}:{addr[1]}\")\n",
        "    # Creamos un hilo para manejar los datos entrantes del cliente\n",
        "    client_handler = threading.Thread(target=handle_client, args=(client,))\n",
        "    client_handler.start()\n"
      ]
    },
    {
      "cell_type": "code",
      "execution_count": null,
      "metadata": {},
      "outputs": [
        {
          "ename": "ConnectionRefusedError",
          "evalue": "[Errno 111] Connection refused",
          "output_type": "error",
          "traceback": [
            "\u001b[0;31m---------------------------------------------------------------------------\u001b[0m",
            "\u001b[0;31mConnectionRefusedError\u001b[0m                    Traceback (most recent call last)",
            "Cell \u001b[0;32mIn[2], line 10\u001b[0m\n\u001b[1;32m      7\u001b[0m client \u001b[39m=\u001b[39m socket\u001b[39m.\u001b[39msocket(socket\u001b[39m.\u001b[39mAF_INET, socket\u001b[39m.\u001b[39mSOCK_STREAM)\n\u001b[1;32m      9\u001b[0m \u001b[39m# Conectamos el cliente al servidor\u001b[39;00m\n\u001b[0;32m---> 10\u001b[0m client\u001b[39m.\u001b[39;49mconnect((target_ip, target_port))\n\u001b[1;32m     12\u001b[0m \u001b[39m# Enviamos un mensaje al servidor\u001b[39;00m\n\u001b[1;32m     13\u001b[0m message \u001b[39m=\u001b[39m \u001b[39m\"\u001b[39m\u001b[39mABCDEF\u001b[39m\u001b[39m\"\u001b[39m\n",
            "\u001b[0;31mConnectionRefusedError\u001b[0m: [Errno 111] Connection refused"
          ]
        }
      ],
      "source": [
        "import socket\n",
        "\n",
        "target_ip = \"0.0.0.0\"  # IP del servidor\n",
        "target_port = 9012      # Puerto del servidor\n",
        "\n",
        "# Creamos un objeto de socket para el cliente\n",
        "client = socket.socket(socket.AF_INET, socket.SOCK_STREAM)\n",
        "\n",
        "# Conectamos el cliente al servidor\n",
        "client.connect((target_ip, target_port))\n",
        "\n",
        "# Enviamos un mensaje al servidor\n",
        "message = \"ABCDEF\"\n",
        "client.send(message.encode())\n",
        "\n",
        "# Recibimos la respuesta del servidor\n",
        "response = client.recv(1024)\n",
        "print(f\"[*] Received: {response.decode()}\")\n",
        "\n",
        "# Cerramos la conexión del cliente\n",
        "client.close()\n"
      ]
    }
  ],
  "metadata": {
    "colab": {
      "provenance": []
    },
    "kernelspec": {
      "display_name": "Python 3",
      "name": "python3"
    },
    "language_info": {
      "codemirror_mode": {
        "name": "ipython",
        "version": 3
      },
      "file_extension": ".py",
      "mimetype": "text/x-python",
      "name": "python",
      "nbconvert_exporter": "python",
      "pygments_lexer": "ipython3",
      "version": "3.8.10"
    }
  },
  "nbformat": 4,
  "nbformat_minor": 0
}
