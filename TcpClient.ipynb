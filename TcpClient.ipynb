{
  "cells": [
    {
      "attachments": {},
      "cell_type": "markdown",
      "metadata": {
        "id": "3wYQf7w-T6EA"
      },
      "source": [
        "*TCP-Client*"
      ]
    },
    {
      "cell_type": "code",
      "execution_count": 12,
      "metadata": {
        "colab": {
          "base_uri": "https://localhost:8080/"
        },
        "id": "YHr23UQtT_fa",
        "outputId": "e15ae0a7-596f-47c3-9042-14cd4be05bd6"
      },
      "outputs": [
        {
          "name": "stdout",
          "output_type": "stream",
          "text": [
            "HTTP/1.1 301 Moved Permanently\n",
            "Location: http://www.google.com/\n",
            "Content-Type: text/html; charset=UTF-8\n",
            "Content-Security-Policy-Report-Only: object-src 'none';base-uri 'self';script-src 'nonce-_kW7giyqP_OL-gtl1DDaCw' 'strict-dynamic' 'report-sample' 'unsafe-eval' 'unsafe-inline' https: http:;report-uri https://csp.withgoogle.com/csp/gws/other-hp\n",
            "Date: Sat, 03 Jun 2023 03:58:08 GMT\n",
            "Expires: Mon, 03 Jul 2023 03:58:08 GMT\n",
            "Cache-Control: public, max-age=2592000\n",
            "Server: gws\n",
            "Content-Length: 219\n",
            "X-XSS-Protection: 0\n",
            "X-Frame-Options: SAMEORIGIN\n",
            "\n",
            "<HTML><HEAD><meta http-equiv=\"content-type\" content=\"text/html;charset=utf-8\">\n",
            "<TITLE>301 Moved</TITLE></HEAD><BODY>\n",
            "<H1>301 Moved</H1>\n",
            "The document has moved\n",
            "<A HREF=\"http://www.google.com/\">here</A>.\n",
            "</BODY></HTML>\n",
            "\n"
          ]
        }
      ],
      "source": [
        "import socket\n",
        "\n",
        "target_host = \"www.google.com\"\n",
        "target_port = 80\n",
        "\n",
        "# create a socket object\n",
        "client = socket.socket(socket.AF_INET, socket.SOCK_STREAM)\n",
        "\n",
        "# connect the client\n",
        "client.connect((target_host, target_port))\n",
        "\n",
        "# send some data\n",
        "request = b\"GET / HTTP/1.1\\r\\nHost: google.com\\r\\n\\r\\n\"\n",
        "client.send(request)\n",
        "\n",
        "# receive some data\n",
        "response = client.recv(4096)\n",
        "print(response.decode())"
      ]
    },
    {
      "attachments": {},
      "cell_type": "markdown",
      "metadata": {
        "id": "1tE2rUY5UdoE"
      },
      "source": [
        "*UDP-Client*"
      ]
    },
    {
      "cell_type": "code",
      "execution_count": 10,
      "metadata": {
        "colab": {
          "base_uri": "https://localhost:8080/",
          "height": 217
        },
        "id": "BwRTTIA0VA5H",
        "outputId": "d4069c4f-3079-4f50-bb26-0c088916bef4"
      },
      "outputs": [
        {
          "name": "stdout",
          "output_type": "stream",
          "text": [
            "Port 80 is not open or not ready to receive data.\n"
          ]
        }
      ],
      "source": [
        "import socket\n",
        "\n",
        "target_host = \"127.0.0.1\"\n",
        "target_port = 9000\n",
        "\n",
        "# create a socket object\n",
        "client = socket.socket(socket.AF_INET, socket.SOCK_STREAM)\n",
        "\n",
        "try:\n",
        "    # try to connect to the target host and port\n",
        "    client.connect((target_host, target_port))\n",
        "    print(\"Port {target_port} is open and ready to receive data.\")\n",
        "except ConnectionRefusedError:\n",
        "    print(\"Port {target_port} is not open or not ready to receive data.\")\n",
        "finally:\n",
        "    client.close()\n"
      ]
    }
  ],
  "metadata": {
    "colab": {
      "provenance": []
    },
    "kernelspec": {
      "display_name": "Python 3",
      "name": "python3"
    },
    "language_info": {
      "codemirror_mode": {
        "name": "ipython",
        "version": 3
      },
      "file_extension": ".py",
      "mimetype": "text/x-python",
      "name": "python",
      "nbconvert_exporter": "python",
      "pygments_lexer": "ipython3",
      "version": "3.8.10"
    }
  },
  "nbformat": 4,
  "nbformat_minor": 0
}
